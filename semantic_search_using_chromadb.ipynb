{
 "cells": [
  {
   "cell_type": "code",
   "execution_count": 2,
   "id": "e61a988e",
   "metadata": {},
   "outputs": [],
   "source": [
    "!pip install chromadb -q\n",
    "!pip install sentence-transformers -q"
   ]
  },
  {
   "cell_type": "markdown",
   "id": "fd586596",
   "metadata": {},
   "source": [
    "## Chromadb default Embeddings"
   ]
  },
  {
   "cell_type": "code",
   "execution_count": 4,
   "id": "3e44dc93",
   "metadata": {},
   "outputs": [],
   "source": [
    "import chromadb\n",
    "client = chromadb.Client()\n",
    "collection = client.create_collection(\"yt_demo\")"
   ]
  },
  {
   "cell_type": "code",
   "execution_count": 7,
   "id": "0f1d02a5",
   "metadata": {},
   "outputs": [
    {
     "data": {
      "text/plain": [
       "Collection(name=yt_demo)"
      ]
     },
     "execution_count": 7,
     "metadata": {},
     "output_type": "execute_result"
    }
   ],
   "source": [
    "collection"
   ]
  },
  {
   "cell_type": "code",
   "execution_count": 5,
   "id": "ed8e7d2d",
   "metadata": {},
   "outputs": [
    {
     "name": "stderr",
     "output_type": "stream",
     "text": [
      "C:\\Users\\medab\\.cache\\chroma\\onnx_models\\all-MiniLM-L6-v2\\onnx.tar.gz: 100%|██████| 79.3M/79.3M [03:00<00:00, 460kiB/s]\n"
     ]
    }
   ],
   "source": [
    "documents = [\"This is a document about cat\", \"This is a document about car\"]\n",
    "metadatas = [{\"category\": \"animal\"}, {\"category\": \"vehicle\"}]\n",
    "ids = [\"id1\", \"id2\"]\n",
    "collection.add(\n",
    "    documents=documents,\n",
    "    metadatas=metadatas,\n",
    "    ids=ids\n",
    ")"
   ]
  },
  {
   "cell_type": "code",
   "execution_count": 6,
   "id": "fbc16405",
   "metadata": {},
   "outputs": [
    {
     "data": {
      "text/plain": [
       "{'ids': [['id2']],\n",
       " 'distances': [[1.1233670711517334]],\n",
       " 'metadatas': [[{'category': 'vehicle'}]],\n",
       " 'embeddings': None,\n",
       " 'documents': [['This is a document about car']],\n",
       " 'uris': None,\n",
       " 'data': None}"
      ]
     },
     "execution_count": 6,
     "metadata": {},
     "output_type": "execute_result"
    }
   ],
   "source": [
    "results = collection.query(\n",
    "    query_texts=['vehicule doc'],\n",
    "    n_results=1\n",
    ")\n",
    "results"
   ]
  },
  {
   "cell_type": "markdown",
   "id": "a90be20e",
   "metadata": {},
   "source": [
    "## Consitent chromadb DB"
   ]
  },
  {
   "cell_type": "code",
   "execution_count": 1,
   "id": "04d2c5e6",
   "metadata": {},
   "outputs": [],
   "source": [
    "import chromadb\n",
    "from chromadb.config import Settings\n",
    "\n",
    "client = chromadb.PersistentClient(path=\"./db\")"
   ]
  },
  {
   "cell_type": "code",
   "execution_count": 5,
   "id": "59a73b6e",
   "metadata": {},
   "outputs": [],
   "source": [
    "collection = client.get_or_create_collection(name='my_collection')\n",
    "documents = [\"This is a document about cat\", \"This is a document about car\"]\n",
    "metadatas = [{\"category\": \"animal\"}, {\"category\": \"vehicle\"}]\n",
    "ids = [\"id1\", \"id2\"]\n",
    "collection.add(\n",
    "    documents=documents,\n",
    "    metadatas=metadatas,\n",
    "    ids=ids\n",
    ")"
   ]
  },
  {
   "cell_type": "code",
   "execution_count": 7,
   "id": "9aef7d0f",
   "metadata": {},
   "outputs": [
    {
     "data": {
      "text/plain": [
       "{'ids': [['id2']],\n",
       " 'distances': [[1.355945351142833]],\n",
       " 'metadatas': [[{'category': 'vehicle'}]],\n",
       " 'embeddings': None,\n",
       " 'documents': [['This is a document about car']],\n",
       " 'uris': None,\n",
       " 'data': None}"
      ]
     },
     "execution_count": 7,
     "metadata": {},
     "output_type": "execute_result"
    }
   ],
   "source": [
    "collection.query(\n",
    "    query_texts='vehicul',\n",
    "    n_results=1\n",
    ")"
   ]
  },
  {
   "cell_type": "markdown",
   "id": "4f5726d4",
   "metadata": {},
   "source": [
    "### Use an existing collection:"
   ]
  },
  {
   "cell_type": "code",
   "execution_count": 1,
   "id": "be87a152",
   "metadata": {},
   "outputs": [],
   "source": [
    "import chromadb\n",
    "from chromadb.config import Settings\n",
    "\n",
    "client = chromadb.PersistentClient(path=\"./db\")"
   ]
  },
  {
   "cell_type": "code",
   "execution_count": 2,
   "id": "f7affa7d",
   "metadata": {},
   "outputs": [],
   "source": [
    "collection = client.get_or_create_collection(name='my_collection')"
   ]
  },
  {
   "cell_type": "code",
   "execution_count": 3,
   "id": "af749eaf",
   "metadata": {},
   "outputs": [
    {
     "data": {
      "text/plain": [
       "{'ids': [['id2']],\n",
       " 'distances': [[1.355945351142833]],\n",
       " 'metadatas': [[{'category': 'vehicle'}]],\n",
       " 'embeddings': None,\n",
       " 'documents': [['This is a document about car']],\n",
       " 'uris': None,\n",
       " 'data': None}"
      ]
     },
     "execution_count": 3,
     "metadata": {},
     "output_type": "execute_result"
    }
   ],
   "source": [
    "collection.query(\n",
    "    query_texts='vehicul',\n",
    "    n_results=1\n",
    ")"
   ]
  },
  {
   "cell_type": "code",
   "execution_count": null,
   "id": "244639f1",
   "metadata": {},
   "outputs": [],
   "source": []
  }
 ],
 "metadata": {
  "kernelspec": {
   "display_name": "Python 3 (ipykernel)",
   "language": "python",
   "name": "python3"
  },
  "language_info": {
   "codemirror_mode": {
    "name": "ipython",
    "version": 3
   },
   "file_extension": ".py",
   "mimetype": "text/x-python",
   "name": "python",
   "nbconvert_exporter": "python",
   "pygments_lexer": "ipython3",
   "version": "3.10.9"
  }
 },
 "nbformat": 4,
 "nbformat_minor": 5
}
